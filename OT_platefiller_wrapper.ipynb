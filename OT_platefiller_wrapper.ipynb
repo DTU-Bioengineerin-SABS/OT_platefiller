{
 "cells": [
  {
   "cell_type": "markdown",
   "metadata": {},
   "source": [
    "# Welcome to OT as Plate filler script \n",
    "\n",
    "start with choosing the number of plates that you want to run and then continue on to setting up the deck. \n"
   ]
  },
  {
   "cell_type": "code",
   "execution_count": null,
   "metadata": {},
   "outputs": [],
   "source": [
    "## insures that robot is correctly initialized\n",
    "!systemctl stop opentrons-robot-server"
   ]
  },
  {
   "cell_type": "code",
   "execution_count": 1,
   "metadata": {},
   "outputs": [],
   "source": [
    "# import the script you wnat to run \n",
    "import OT_as_platefiller as script\n",
    "\n",
    "## start email and camera functions\n",
    "import subprocess\n",
    "import smtplib\n",
    "import datetime\n",
    "from datetime import date\n",
    "import os\n",
    "from time import sleep\n",
    "# Import opentrons.execute\n",
    "import opentrons.execute\n",
    "\n",
    "## Prep email so when run is finished you are notifid\n",
    "def send_email(to_email, msg):\n",
    "    server = smtplib.SMTP_SSL('smtp.gmail.com', 465)\n",
    "    server.login(\"iamOTrobot028@gmail.com\", \"E^D>Z{d&peJwm]kzAbRzk;^7%Fh4'x4qmAPS'2yzHAJaF\\@@/h5,w)@h\\9w$cB:>\")\n",
    "    server.sendmail(\n",
    "      \"iamOTrobot028@gmail.com\", \n",
    "      str(to_email), \n",
    "      msg)\n",
    "    server.quit()\n",
    "    print('email function finished')\n",
    "\n",
    "# prepare camera function  \n",
    "def camera(protocol, name_of_image): \n",
    "    subprocess.check_call(['ffmpeg', '-y', '-f', 'video4linux2', '-s',\n",
    "                       '640x480', '-i', '/dev/video0', '-ss', '0:0:1', \n",
    "                       '-frames', '1', os.path.abspath('.') + '/' + name_of_image +'.jpg']) \n",
    "    print('Cammera on')\n",
    "\n",
    "## Write your email address\n",
    "# print('')\n",
    "#to_email = input('What is your email adress? Write here:\\n ')\n"
   ]
  },
  {
   "cell_type": "code",
   "execution_count": 2,
   "metadata": {},
   "outputs": [
    {
     "name": "stdout",
     "output_type": "stream",
     "text": [
      "\n",
      "Select the number of plates that you want to run: 5\n",
      "\n",
      "You selected 5 plates to be run\n"
     ]
    }
   ],
   "source": [
    "NUMBER_OF_PLATES = None\n",
    "options = [1,2,3,4,5,6,7,8,9]\n",
    "while NUMBER_OF_PLATES not in options:\n",
    "    try:\n",
    "        print('')\n",
    "        NUMBER_OF_PLATES = int(input('Select the number of plates that you want to run: '))\n",
    "    except:\n",
    "        pass\n",
    "    \n",
    "    if NUMBER_OF_PLATES not in options:\n",
    "        print('')\n",
    "        print(f'This input {NUMBER_OF_PLATES} is not between 1 and 9')\n",
    "    else:\n",
    "        print('')\n",
    "        print(f'You selected {NUMBER_OF_PLATES} plates to be run')\n",
    "    script.NUMBER_OF_PLATES = NUMBER_OF_PLATES"
   ]
  },
  {
   "cell_type": "code",
   "execution_count": 3,
   "metadata": {},
   "outputs": [
    {
     "name": "stdout",
     "output_type": "stream",
     "text": [
      "(1, 'vikmol@dtu.dk')\n",
      "(2, 'smapi@dtu.dk')\n",
      "(3, 'manoch@dtu.dk')\n",
      "(4, 'wmafi@dtu.dk')\n",
      "(5, 'rujubr@dtu.dk')\n",
      "(6, 'viwie@dtu.dk')\n",
      "\n",
      "Select the number corresponding to the correct email: 1\n",
      "\n",
      "You selected 1 corresponding to vikmol@dtu.dk\n"
     ]
    }
   ],
   "source": [
    "\n",
    "\n",
    "\n",
    "email_dict = {1:'vikmol@dtu.dk', 2:'smapi@dtu.dk', 3:'manoch@dtu.dk', 4:'wmafi@dtu.dk', 5:'rujubr@dtu.dk', 6:'viwie@dtu.dk'}\n",
    "\n",
    "# print(email_dict)\n",
    "for item in email_dict.items():\n",
    "    print(item)\n",
    "\n",
    "    \n",
    "selected_email_key = None\n",
    "while selected_email_key not in email_dict.keys():\n",
    "    try:\n",
    "        print('')\n",
    "        selected_email_key = int(input('Select the number corresponding to the correct email: '))\n",
    "    except:\n",
    "        pass\n",
    "    \n",
    "    if selected_email_key not in email_dict.keys():\n",
    "        print('')\n",
    "        print(f'This input {selected_email_key} is not in the email list')\n",
    "    else:\n",
    "        print('')\n",
    "        print(f'You selected {selected_email_key} corresponding to {email_dict[selected_email_key]}')\n",
    "        \n",
    "to_email = email_dict[selected_email_key]"
   ]
  },
  {
   "cell_type": "markdown",
   "metadata": {},
   "source": [
    "# Deck Layout"
   ]
  },
  {
   "cell_type": "code",
   "execution_count": 5,
   "metadata": {},
   "outputs": [
    {
     "data": {
      "text/markdown": [
       "<img src=deck_layout_pictures/packed_deck_layout_5.png>"
      ],
      "text/plain": [
       "<IPython.core.display.Markdown object>"
      ]
     },
     "execution_count": 5,
     "metadata": {},
     "output_type": "execute_result"
    }
   ],
   "source": [
    "from IPython.display import Markdown as md\n",
    "# Instead of setting the cell to Markdown, create Markdown from withnin a code cell!\n",
    "# We can just use python variable replacement syntax to make the text dynamic\n",
    "\n",
    "# choose picture from NUMBER_OF_PLATES\n",
    "picture = f\"deck_layout_pictures/packed_deck_layout_{NUMBER_OF_PLATES}.png\"\n",
    "\n",
    "# run markdown in python\n",
    "md(\"<img src={}>\".format(picture))"
   ]
  },
  {
   "cell_type": "markdown",
   "metadata": {},
   "source": [
    "# Simulate the script before starting the run"
   ]
  },
  {
   "cell_type": "code",
   "execution_count": 67,
   "metadata": {},
   "outputs": [
    {
     "name": "stdout",
     "output_type": "stream",
     "text": [
      "<module 'OT_as_platefiller' (namespace)>\n",
      "OT_as_platefill\n"
     ]
    }
   ],
   "source": [
    "# This is where you establish the API version \n",
    "protocol = opentrons.execute.get_protocol_api('2.11')\n",
    "\n",
    "print(script)\n",
    "## convert module into string and strip until only path and file name is left\n",
    "trim_script = str(script).split('\\'')[-2][:-2]  #[1:]\n",
    "print(trim_script)\n",
    "\n"
   ]
  },
  {
   "cell_type": "code",
   "execution_count": 69,
   "metadata": {},
   "outputs": [
    {
     "name": "stdout",
     "output_type": "stream",
     "text": [
      "usage: opentrons_simulate [-h] [-l {debug,info,warning,error,none}]\r\n",
      "                          [-L CUSTOM_LABWARE_PATH] [-D [CUSTOM_DATA_PATH]]\r\n",
      "                          [-s CUSTOM_HARDWARE_SIMULATOR_FILE]\r\n",
      "                          [-d CUSTOM_DATA_FILE] [-e] [-v]\r\n",
      "                          [-o {runlog,nothing}]\r\n",
      "                          PROTOCOL\r\n",
      "opentrons_simulate: error: argument PROTOCOL: can't open 'OT_as_platefiller/OT_as_platefill.py': [Errno 2] No such file or directory: 'OT_as_platefiller/OT_as_platefill.py'\r\n"
     ]
    }
   ],
   "source": [
    "# Simulate run before start\n",
    "!opentrons_simulate \"OT_as_platefiller/{trim_script+'.py'}\""
   ]
  },
  {
   "cell_type": "code",
   "execution_count": 72,
   "metadata": {},
   "outputs": [
    {
     "name": "stdout",
     "output_type": "stream",
     "text": [
      "Setting Temperature Module temperature to 85.0 °C (rounded off to nearest integer)\r\n",
      "Picking up tip from A1 of Opentrons 96 Tip Rack 300 µL on 11\r\n",
      "Moving to A1 of Agilent 1 Well Reservoir 290 mL on Temperature Module GEN1 on 10\r\n",
      "Moving to A1 of Agilent 1 Well Reservoir 290 mL on Temperature Module GEN1 on 10\r\n",
      "Moving to A1 of Agilent 1 Well Reservoir 290 mL on Temperature Module GEN1 on 10\r\n",
      "Aspirating 175.0 uL from A1 of Agilent 1 Well Reservoir 290 mL on Temperature Module GEN1 on 10 at 150.0 uL/sec\r\n",
      "Dispensing 175.0 uL into A1 of Agilent 1 Well Reservoir 290 mL on Temperature Module GEN1 on 10 at 150.0 uL/sec\r\n",
      "Aspirating 140.0 uL from A1 of Agilent 1 Well Reservoir 290 mL on Temperature Module GEN1 on 10 at 150.0 uL/sec\r\n",
      "Dispensing 100.0 uL into A1 of Agilent 1 Well Reservoir 290 mL on Temperature Module GEN1 on 10 at 150.0 uL/sec\r\n",
      "Aspirating 150.0 uL from A1 of Agilent 1 Well Reservoir 290 mL on Temperature Module GEN1 on 10 at 150.0 uL/sec\r\n",
      "Dispensing 150.0 uL into A1 of NEST 96 Well Plate 200 µL Flat on 7 at 150.0 uL/sec\r\n",
      "Aspirating 150.0 uL from A1 of Agilent 1 Well Reservoir 290 mL on Temperature Module GEN1 on 10 at 150.0 uL/sec\r\n",
      "Dispensing 150.0 uL into A2 of NEST 96 Well Plate 200 µL Flat on 7 at 150.0 uL/sec\r\n",
      "Aspirating 150.0 uL from A1 of Agilent 1 Well Reservoir 290 mL on Temperature Module GEN1 on 10 at 150.0 uL/sec\r\n",
      "Dispensing 150.0 uL into A3 of NEST 96 Well Plate 200 µL Flat on 7 at 150.0 uL/sec\r\n",
      "Aspirating 150.0 uL from A1 of Agilent 1 Well Reservoir 290 mL on Temperature Module GEN1 on 10 at 150.0 uL/sec\r\n",
      "Dispensing 150.0 uL into A4 of NEST 96 Well Plate 200 µL Flat on 7 at 150.0 uL/sec\r\n",
      "Aspirating 150.0 uL from A1 of Agilent 1 Well Reservoir 290 mL on Temperature Module GEN1 on 10 at 150.0 uL/sec\r\n",
      "Dispensing 150.0 uL into A5 of NEST 96 Well Plate 200 µL Flat on 7 at 150.0 uL/sec\r\n",
      "Aspirating 150.0 uL from A1 of Agilent 1 Well Reservoir 290 mL on Temperature Module GEN1 on 10 at 150.0 uL/sec\r\n",
      "Dispensing 150.0 uL into A6 of NEST 96 Well Plate 200 µL Flat on 7 at 150.0 uL/sec\r\n",
      "Aspirating 150.0 uL from A1 of Agilent 1 Well Reservoir 290 mL on Temperature Module GEN1 on 10 at 150.0 uL/sec\r\n",
      "Dispensing 150.0 uL into A7 of NEST 96 Well Plate 200 µL Flat on 7 at 150.0 uL/sec\r\n",
      "Aspirating 150.0 uL from A1 of Agilent 1 Well Reservoir 290 mL on Temperature Module GEN1 on 10 at 150.0 uL/sec\r\n",
      "Dispensing 150.0 uL into A8 of NEST 96 Well Plate 200 µL Flat on 7 at 150.0 uL/sec\r\n",
      "Aspirating 150.0 uL from A1 of Agilent 1 Well Reservoir 290 mL on Temperature Module GEN1 on 10 at 150.0 uL/sec\r\n",
      "Dispensing 150.0 uL into A9 of NEST 96 Well Plate 200 µL Flat on 7 at 150.0 uL/sec\r\n",
      "Aspirating 150.0 uL from A1 of Agilent 1 Well Reservoir 290 mL on Temperature Module GEN1 on 10 at 150.0 uL/sec\r\n",
      "Dispensing 150.0 uL into A10 of NEST 96 Well Plate 200 µL Flat on 7 at 150.0 uL/sec\r\n",
      "Aspirating 150.0 uL from A1 of Agilent 1 Well Reservoir 290 mL on Temperature Module GEN1 on 10 at 150.0 uL/sec\r\n",
      "Dispensing 150.0 uL into A11 of NEST 96 Well Plate 200 µL Flat on 7 at 150.0 uL/sec\r\n",
      "Aspirating 150.0 uL from A1 of Agilent 1 Well Reservoir 290 mL on Temperature Module GEN1 on 10 at 150.0 uL/sec\r\n",
      "Dispensing 150.0 uL into A12 of NEST 96 Well Plate 200 µL Flat on 7 at 150.0 uL/sec\r\n",
      "Dispensing 35.0 uL into A1 of Agilent 1 Well Reservoir 290 mL on Temperature Module GEN1 on 10 at 150.0 uL/sec\r\n",
      "Dropping tip into A1 of Opentrons Fixed Trash on 12\r\n"
     ]
    }
   ],
   "source": [
    "!opentrons_simulate OT_as_platefiller/OT_as_platefiller.py"
   ]
  },
  {
   "cell_type": "markdown",
   "metadata": {},
   "source": [
    "# Start Run"
   ]
  },
  {
   "cell_type": "code",
   "execution_count": null,
   "metadata": {},
   "outputs": [],
   "source": [
    "## RUN THE CODE \n",
    "\n",
    "# make start time veriable to measure time from start\n",
    "start_time = datetime.datetime.now() #datetime.now()\n",
    "\n",
    "# Take picture of start run\n",
    "camera(protocol, 'StartDeckImage')\n",
    "\n",
    "# !ffmpeg -y -video_size 320x240 -i /dev/video0 $PWD/video.mp4 \n",
    "# start the video\n",
    "# !ffmpeg -nostdin loglevel panic -y -video_size 320x240 -i /dev/video0 $PWD/video.mp4 & \n",
    "\n",
    "# Must home before running \n",
    "protocol.home()\n",
    "\n",
    "# run your script\n",
    "try:\n",
    "    script.run(protocol)\n",
    "except:\n",
    "    print('Sorry the robot has crashed')\n",
    "    camera(protocol, 'CrashDeckImage')\n",
    "    send_email(to_email, 'Robot OT028 failed, I am sorry!')\n",
    "    exit()\n",
    "    \n",
    "# Must home after running \n",
    "protocol.home()\n",
    "\n",
    "\n",
    "# Take picture of end run\n",
    "camera(protocol, 'StopDeckImage')\n",
    "\n",
    "\n",
    "stop_time = datetime.datetime.now()\n",
    "total_time = stop_time - start_time \n",
    "print('Total run time: ', total_time)\n",
    "\n",
    "# end by sending an email to user when robot is finished:\n",
    "send_email(to_email, 'Robot OT028 finshed protocol no problems!')\n",
    "\n",
    "# save the discription of the protocol as a txt\n",
    "!opentrons_simulate \"{trim_script}\" > protocolSteps-\"`date +\"%Y-%m-%d-%H-%M\"`\".txt\n",
    "\n",
    "print('Your protocol is finished well done!')"
   ]
  }
 ],
 "metadata": {
  "kernelspec": {
   "display_name": "Python 3 (ipykernel)",
   "language": "python",
   "name": "python3"
  },
  "language_info": {
   "codemirror_mode": {
    "name": "ipython",
    "version": 3
   },
   "file_extension": ".py",
   "mimetype": "text/x-python",
   "name": "python",
   "nbconvert_exporter": "python",
   "pygments_lexer": "ipython3",
   "version": "3.9.9"
  }
 },
 "nbformat": 4,
 "nbformat_minor": 2
}
